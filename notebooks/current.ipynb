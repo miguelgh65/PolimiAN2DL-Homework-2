{
 "cells": [
  {
   "cell_type": "markdown",
   "id": "ed598f28",
   "metadata": {},
   "source": [
    "# Initialization"
   ]
  },
  {
   "cell_type": "code",
   "execution_count": null,
   "id": "2e2d8c0c",
   "metadata": {
    "_cell_guid": "b1076dfc-b9ad-4769-8c92-a6c4dae69d19",
    "_uuid": "8f2839f25d086af736a60e9eeb907d3b93b6e0e5",
    "execution": {
     "iopub.execute_input": "2021-12-14T18:35:40.006504Z",
     "iopub.status.busy": "2021-12-14T18:35:40.004836Z",
     "iopub.status.idle": "2021-12-14T18:35:45.968468Z",
     "shell.execute_reply": "2021-12-14T18:35:45.967835Z",
     "shell.execute_reply.started": "2021-12-13T22:32:28.224696Z"
    },
    "papermill": {
     "duration": 5.98794,
     "end_time": "2021-12-14T18:35:45.968625",
     "exception": false,
     "start_time": "2021-12-14T18:35:39.980685",
     "status": "completed"
    },
    "tags": []
   },
   "outputs": [],
   "source": [
    "import tensorflow as tf\n",
    "import numpy as np\n",
    "import os\n",
    "import random\n",
    "import pandas as pd\n",
    "import seaborn as sns\n",
    "from datetime import datetime\n",
    "from sklearn.preprocessing import MinMaxScaler\n",
    "\n",
    "import matplotlib.pyplot as plt\n",
    "plt.rc('font', size=16)\n",
    "\n",
    "import warnings\n",
    "warnings.filterwarnings('ignore')\n",
    "tf.get_logger().setLevel('ERROR')\n",
    "\n",
    "tfk = tf.keras\n",
    "tfkl = tf.keras.layers"
   ]
  },
  {
   "cell_type": "code",
   "execution_count": null,
   "id": "b08b805b",
   "metadata": {
    "execution": {
     "iopub.execute_input": "2021-12-14T18:35:46.012565Z",
     "iopub.status.busy": "2021-12-14T18:35:46.011637Z",
     "iopub.status.idle": "2021-12-14T18:35:46.013441Z",
     "shell.execute_reply": "2021-12-14T18:35:46.013928Z",
     "shell.execute_reply.started": "2021-12-13T22:23:54.631557Z"
    },
    "papermill": {
     "duration": 0.025607,
     "end_time": "2021-12-14T18:35:46.014074",
     "exception": false,
     "start_time": "2021-12-14T18:35:45.988467",
     "status": "completed"
    },
    "tags": []
   },
   "outputs": [],
   "source": [
    "# Random seed for reproducibility\n",
    "seed = 42\n",
    "\n",
    "random.seed(seed)\n",
    "os.environ['PYTHONHASHSEED'] = str(seed)\n",
    "np.random.seed(seed)\n",
    "tf.random.set_seed(seed)\n",
    "tf.compat.v1.set_random_seed(seed)"
   ]
  },
  {
   "cell_type": "code",
   "execution_count": null,
   "id": "10d00275",
   "metadata": {},
   "outputs": [],
   "source": [
    "# Enable/disable test mode\n",
    "test_mode = True"
   ]
  },
  {
   "cell_type": "markdown",
   "id": "f98e97f3",
   "metadata": {},
   "source": [
    "## Import and visualize the dataset"
   ]
  },
  {
   "cell_type": "code",
   "execution_count": null,
   "id": "11c13e3b",
   "metadata": {
    "execution": {
     "iopub.execute_input": "2021-12-14T18:35:46.055323Z",
     "iopub.status.busy": "2021-12-14T18:35:46.054771Z",
     "iopub.status.idle": "2021-12-14T18:35:46.253725Z",
     "shell.execute_reply": "2021-12-14T18:35:46.254333Z",
     "shell.execute_reply.started": "2021-12-13T22:23:54.638599Z"
    },
    "papermill": {
     "duration": 0.222247,
     "end_time": "2021-12-14T18:35:46.254530",
     "exception": false,
     "start_time": "2021-12-14T18:35:46.032283",
     "status": "completed"
    },
    "tags": []
   },
   "outputs": [],
   "source": [
    "# Set the path to the dataset\n",
    "dataset = pd.read_csv('../input/homework2/Training.csv')\n",
    "#dataset = pd.read_csv('../input/Training.csv')\n",
    "print(dataset.shape) \n",
    "dataset.head().transpose()"
   ]
  },
  {
   "cell_type": "code",
   "execution_count": null,
   "id": "efc81c03",
   "metadata": {
    "execution": {
     "iopub.execute_input": "2021-12-14T18:35:46.304915Z",
     "iopub.status.busy": "2021-12-14T18:35:46.304068Z",
     "iopub.status.idle": "2021-12-14T18:35:46.308869Z",
     "shell.execute_reply": "2021-12-14T18:35:46.308437Z",
     "shell.execute_reply.started": "2021-12-13T22:23:54.871969Z"
    },
    "papermill": {
     "duration": 0.036022,
     "end_time": "2021-12-14T18:35:46.309003",
     "exception": false,
     "start_time": "2021-12-14T18:35:46.272981",
     "status": "completed"
    },
    "tags": []
   },
   "outputs": [],
   "source": [
    "dataset.head()"
   ]
  },
  {
   "cell_type": "code",
   "execution_count": null,
   "id": "f7d6ef89",
   "metadata": {
    "execution": {
     "iopub.execute_input": "2021-12-14T18:35:46.350566Z",
     "iopub.status.busy": "2021-12-14T18:35:46.349755Z",
     "iopub.status.idle": "2021-12-14T18:35:46.370382Z",
     "shell.execute_reply": "2021-12-14T18:35:46.370778Z",
     "shell.execute_reply.started": "2021-12-13T22:23:54.889884Z"
    },
    "papermill": {
     "duration": 0.04299,
     "end_time": "2021-12-14T18:35:46.370918",
     "exception": false,
     "start_time": "2021-12-14T18:35:46.327928",
     "status": "completed"
    },
    "tags": []
   },
   "outputs": [],
   "source": [
    "dataset.info()"
   ]
  },
  {
   "cell_type": "code",
   "execution_count": null,
   "id": "81548d60",
   "metadata": {
    "execution": {
     "iopub.execute_input": "2021-12-14T18:35:46.418517Z",
     "iopub.status.busy": "2021-12-14T18:35:46.417611Z",
     "iopub.status.idle": "2021-12-14T18:35:47.421447Z",
     "shell.execute_reply": "2021-12-14T18:35:47.421874Z",
     "shell.execute_reply.started": "2021-12-13T22:23:54.912539Z"
    },
    "papermill": {
     "duration": 1.031999,
     "end_time": "2021-12-14T18:35:47.422025",
     "exception": false,
     "start_time": "2021-12-14T18:35:46.390026",
     "status": "completed"
    },
    "tags": []
   },
   "outputs": [],
   "source": [
    "def inspect_dataframe(df, columns):\n",
    "    figs, axs = plt.subplots(len(columns), 1, sharex=True, figsize=(17,17))\n",
    "    for i, col in enumerate(columns):\n",
    "        axs[i].plot(df[col])\n",
    "        axs[i].set_title(col)\n",
    "    plt.show()\n",
    "inspect_dataframe(dataset, dataset.columns)"
   ]
  },
  {
   "cell_type": "markdown",
   "id": "d75451cb",
   "metadata": {},
   "source": [
    "# Data preprocessing"
   ]
  },
  {
   "cell_type": "code",
   "execution_count": null,
   "id": "f5a619d5",
   "metadata": {
    "execution": {
     "iopub.execute_input": "2021-12-14T18:35:47.478248Z",
     "iopub.status.busy": "2021-12-14T18:35:47.477371Z",
     "iopub.status.idle": "2021-12-14T18:35:47.490210Z",
     "shell.execute_reply": "2021-12-14T18:35:47.489454Z",
     "shell.execute_reply.started": "2021-12-13T22:23:55.862103Z"
    },
    "papermill": {
     "duration": 0.044221,
     "end_time": "2021-12-14T18:35:47.490401",
     "exception": false,
     "start_time": "2021-12-14T18:35:47.446180",
     "status": "completed"
    },
    "tags": []
   },
   "outputs": [],
   "source": [
    "if(test_mode):\n",
    "    test_size = 10000\n",
    "    X_train_raw = dataset.iloc[:-test_size]\n",
    "    X_test_raw = dataset.iloc[-test_size:]\n",
    "else:\n",
    "    X_train_raw = dataset\n",
    "\n",
    "# y_train_raw = y.iloc[:-test_size]\n",
    "# Normalize both features and labels\n",
    "X_min = X_train_raw.min()\n",
    "X_max = X_train_raw.max()\n",
    "\n",
    "X_train_raw = (X_train_raw-X_min)/(X_max-X_min)\n",
    "\n",
    "if(test_mode):\n",
    "    # y_test_raw = y.iloc[-test_size:]\n",
    "    X_test_raw = (X_test_raw-X_min)/(X_max-X_min)\n",
    "\n"
   ]
  },
  {
   "cell_type": "markdown",
   "id": "3718f36e",
   "metadata": {},
   "source": [
    "## Extracting sequences from the dataset"
   ]
  },
  {
   "cell_type": "code",
   "execution_count": null,
   "id": "b6d3f79d",
   "metadata": {
    "execution": {
     "iopub.execute_input": "2021-12-14T18:35:47.550947Z",
     "iopub.status.busy": "2021-12-14T18:35:47.549996Z",
     "iopub.status.idle": "2021-12-14T18:35:47.553052Z",
     "shell.execute_reply": "2021-12-14T18:35:47.553454Z",
     "shell.execute_reply.started": "2021-12-13T22:30:08.410857Z"
    },
    "papermill": {
     "duration": 0.036587,
     "end_time": "2021-12-14T18:35:47.553606",
     "exception": false,
     "start_time": "2021-12-14T18:35:47.517019",
     "status": "completed"
    },
    "tags": []
   },
   "outputs": [],
   "source": [
    "def build_sequences(df, target_labels, window, stride, telescope):\n",
    "    # Sanity check to avoid runtime errors\n",
    "    assert window % stride == 0\n",
    "    dataset = []\n",
    "    labels = []\n",
    "    temp_df = df.copy().values\n",
    "    temp_label = df[target_labels].copy().values\n",
    "    padding_len = len(df)%window\n",
    "\n",
    "    if(padding_len != 0):\n",
    "        # Compute padding length\n",
    "        padding_len = window - len(df)%window\n",
    "        padding = np.zeros((padding_len,temp_df.shape[1]), dtype='float32')#float32\n",
    "        temp_df = np.concatenate((padding,df))\n",
    "        padding = np.zeros((padding_len,temp_label.shape[1]), dtype='float32')\n",
    "        temp_label = np.concatenate((padding,temp_label))\n",
    "        assert len(temp_df) % window == 0\n",
    "\n",
    "    for idx in np.arange(0,len(temp_df)-window-telescope,stride):\n",
    "        dataset.append(temp_df[idx:idx+window])\n",
    "        labels.append(temp_label[idx+window:idx+window+telescope])\n",
    "\n",
    "    dataset = np.array(dataset)\n",
    "    labels = np.array(labels)\n",
    "    return dataset, labels"
   ]
  },
  {
   "cell_type": "code",
   "execution_count": null,
   "id": "c358fb3a",
   "metadata": {
    "execution": {
     "iopub.execute_input": "2021-12-14T18:35:47.607404Z",
     "iopub.status.busy": "2021-12-14T18:35:47.606580Z",
     "iopub.status.idle": "2021-12-14T18:35:47.609140Z",
     "shell.execute_reply": "2021-12-14T18:35:47.608667Z",
     "shell.execute_reply.started": "2021-12-13T22:23:55.882468Z"
    },
    "papermill": {
     "duration": 0.031343,
     "end_time": "2021-12-14T18:35:47.609250",
     "exception": false,
     "start_time": "2021-12-14T18:35:47.577907",
     "status": "completed"
    },
    "tags": []
   },
   "outputs": [],
   "source": [
    "target_labels = dataset.columns\n",
    "window = 600\n",
    "stride = 10\n",
    "telescope = 1"
   ]
  },
  {
   "cell_type": "code",
   "execution_count": null,
   "id": "7c4e9407",
   "metadata": {
    "execution": {
     "iopub.execute_input": "2021-12-14T18:35:47.665998Z",
     "iopub.status.busy": "2021-12-14T18:35:47.665293Z",
     "iopub.status.idle": "2021-12-14T18:35:47.668049Z",
     "shell.execute_reply": "2021-12-14T18:35:47.668556Z"
    },
    "papermill": {
     "duration": 0.035227,
     "end_time": "2021-12-14T18:35:47.668701",
     "exception": false,
     "start_time": "2021-12-14T18:35:47.633474",
     "status": "completed"
    },
    "tags": []
   },
   "outputs": [],
   "source": [
    "future = dataset[-window:]\n",
    "future = (future-X_min)/(X_max-X_min)\n",
    "future = np.expand_dims(future, axis=0)\n",
    "future.shape"
   ]
  },
  {
   "cell_type": "code",
   "execution_count": null,
   "id": "22b528cc",
   "metadata": {
    "execution": {
     "iopub.execute_input": "2021-12-14T18:35:47.724058Z",
     "iopub.status.busy": "2021-12-14T18:35:47.722282Z",
     "iopub.status.idle": "2021-12-14T18:35:47.801436Z",
     "shell.execute_reply": "2021-12-14T18:35:47.801907Z",
     "shell.execute_reply.started": "2021-12-13T22:30:14.235497Z"
    },
    "papermill": {
     "duration": 0.10856,
     "end_time": "2021-12-14T18:35:47.802055",
     "exception": false,
     "start_time": "2021-12-14T18:35:47.693495",
     "status": "completed"
    },
    "tags": []
   },
   "outputs": [],
   "source": [
    "X_train, y_train = build_sequences(X_train_raw, target_labels, window, stride, telescope)\n",
    "print(X_train.shape, y_train.shape)\n",
    "\n",
    "if(test_mode):\n",
    "    X_test, y_test = build_sequences(X_test_raw, target_labels, window, stride, telescope)\n",
    "    print(X_test.shape, y_test.shape)"
   ]
  },
  {
   "cell_type": "code",
   "execution_count": null,
   "id": "ae6ab526",
   "metadata": {
    "execution": {
     "iopub.execute_input": "2021-12-14T18:35:47.861904Z",
     "iopub.status.busy": "2021-12-14T18:35:47.860983Z",
     "iopub.status.idle": "2021-12-14T18:35:47.863610Z",
     "shell.execute_reply": "2021-12-14T18:35:47.863131Z",
     "shell.execute_reply.started": "2021-12-13T22:30:19.452369Z"
    },
    "papermill": {
     "duration": 0.036189,
     "end_time": "2021-12-14T18:35:47.863734",
     "exception": false,
     "start_time": "2021-12-14T18:35:47.827545",
     "status": "completed"
    },
    "tags": []
   },
   "outputs": [],
   "source": [
    "def inspect_multivariate(X, y, columns, telescope, idx=None):\n",
    "    if(idx==None):\n",
    "        idx=np.random.randint(0,len(X))\n",
    "\n",
    "    figs, axs = plt.subplots(len(columns), 1, sharex=True, figsize=(17,17))\n",
    "    for i, col in enumerate(columns):\n",
    "        axs[i].plot(np.arange(len(X[0,:,i])), X[idx,:,i])\n",
    "        axs[i].scatter(np.arange(len(X[0,:,i]), len(X_train[0,:,i])+telescope), y[idx,:,i], color='orange')\n",
    "        axs[i].set_title(col)\n",
    "        axs[i].set_ylim(0,1)\n",
    "    plt.show()"
   ]
  },
  {
   "cell_type": "code",
   "execution_count": null,
   "id": "d00598d2",
   "metadata": {
    "execution": {
     "iopub.execute_input": "2021-12-14T18:35:47.925227Z",
     "iopub.status.busy": "2021-12-14T18:35:47.924360Z",
     "iopub.status.idle": "2021-12-14T18:35:48.673032Z",
     "shell.execute_reply": "2021-12-14T18:35:48.672477Z",
     "shell.execute_reply.started": "2021-12-13T22:30:25.693661Z"
    },
    "papermill": {
     "duration": 0.782008,
     "end_time": "2021-12-14T18:35:48.673173",
     "exception": false,
     "start_time": "2021-12-14T18:35:47.891165",
     "status": "completed"
    },
    "tags": []
   },
   "outputs": [],
   "source": [
    "inspect_multivariate(X_train, y_train, target_labels, telescope)"
   ]
  },
  {
   "cell_type": "markdown",
   "id": "5ddda2ee",
   "metadata": {},
   "source": [
    "# Train the model"
   ]
  },
  {
   "cell_type": "code",
   "execution_count": null,
   "id": "4ecb945c",
   "metadata": {
    "execution": {
     "iopub.execute_input": "2021-12-14T18:35:48.734248Z",
     "iopub.status.busy": "2021-12-14T18:35:48.733445Z",
     "iopub.status.idle": "2021-12-14T18:35:48.736000Z",
     "shell.execute_reply": "2021-12-14T18:35:48.735573Z",
     "shell.execute_reply.started": "2021-12-13T22:39:51.376304Z"
    },
    "papermill": {
     "duration": 0.03495,
     "end_time": "2021-12-14T18:35:48.736121",
     "exception": false,
     "start_time": "2021-12-14T18:35:48.701171",
     "status": "completed"
    },
    "tags": []
   },
   "outputs": [],
   "source": [
    "input_shape = X_train.shape[1:]\n",
    "output_shape = y_train.shape[1:]\n",
    "print(y_train.shape)\n",
    "\n",
    "batch_size = 128\n",
    "epochs = 200\n",
    "\n",
    "model_name = 'BiLSTM'"
   ]
  },
  {
   "cell_type": "code",
   "execution_count": null,
   "id": "57069fd9",
   "metadata": {
    "execution": {
     "iopub.execute_input": "2021-12-14T18:35:48.799922Z",
     "iopub.status.busy": "2021-12-14T18:35:48.799397Z",
     "iopub.status.idle": "2021-12-14T18:35:48.802743Z",
     "shell.execute_reply": "2021-12-14T18:35:48.803107Z",
     "shell.execute_reply.started": "2021-12-13T22:42:08.668724Z"
    },
    "papermill": {
     "duration": 0.039167,
     "end_time": "2021-12-14T18:35:48.803239",
     "exception": false,
     "start_time": "2021-12-14T18:35:48.764072",
     "status": "completed"
    },
    "tags": []
   },
   "outputs": [],
   "source": [
    "def build_model(input_shape ,output_shape):\n",
    "    #create model\n",
    "    model = tfk.Sequential()\n",
    "    model.add(tfkl.Bidirectional(tfkl.LSTM(units=256, return_sequences=True), input_shape=input_shape))\n",
    "    model.add(tfkl.Dropout(0.2))\n",
    "\n",
    "    model.add(tfkl.LSTM(units=256, return_sequences=True))\n",
    "    model.add(tfkl.Dropout(0.2))\n",
    "\n",
    "    model.add(tfkl.LSTM(units=256))\n",
    "    model.add(tfkl.Dropout(0.2))\n",
    "\n",
    "\n",
    "    model.add(tfkl.Dense(output_shape[-1]*output_shape[-2], activation='relu'))\n",
    "    model.add(tfkl.Reshape(output_shape))\n",
    "    model.add(tfkl.Conv1D(output_shape[-1], 1, padding='same'))\n",
    "\n",
    "    model.compile(loss=tfk.losses.MeanSquaredError(), optimizer=tfk.optimizers.Adam(), metrics=['mae'])\n",
    "\n",
    "\n",
    "    return model\n"
   ]
  },
  {
   "cell_type": "code",
   "execution_count": null,
   "id": "1054d763",
   "metadata": {
    "execution": {
     "iopub.execute_input": "2021-12-14T18:35:48.864471Z",
     "iopub.status.busy": "2021-12-14T18:35:48.863876Z",
     "iopub.status.idle": "2021-12-14T18:35:52.779579Z",
     "shell.execute_reply": "2021-12-14T18:35:52.779994Z",
     "shell.execute_reply.started": "2021-12-13T22:42:13.846318Z"
    },
    "papermill": {
     "duration": 3.949715,
     "end_time": "2021-12-14T18:35:52.780142",
     "exception": false,
     "start_time": "2021-12-14T18:35:48.830427",
     "status": "completed"
    },
    "tags": []
   },
   "outputs": [],
   "source": [
    "model = build_model(input_shape, output_shape)\n",
    "model.summary()\n",
    "tfk.utils.plot_model(model, expand_nested=True)"
   ]
  },
  {
   "cell_type": "code",
   "execution_count": null,
   "id": "8df08b0d",
   "metadata": {
    "execution": {
     "iopub.execute_input": "2021-12-14T18:35:52.848180Z",
     "iopub.status.busy": "2021-12-14T18:35:52.847250Z",
     "iopub.status.idle": "2021-12-14T18:38:15.228420Z",
     "shell.execute_reply": "2021-12-14T18:38:15.228853Z"
    },
    "papermill": {
     "duration": 142.419631,
     "end_time": "2021-12-14T18:38:15.229033",
     "exception": false,
     "start_time": "2021-12-14T18:35:52.809402",
     "status": "completed"
    },
    "tags": []
   },
   "outputs": [],
   "source": [
    "# Train the model\n",
    "history = model.fit(\n",
    "    x = X_train,\n",
    "    y = y_train,\n",
    "    batch_size = batch_size,\n",
    "    epochs = epochs,\n",
    "    validation_split=.15,\n",
    "    callbacks = [\n",
    "        tfk.callbacks.EarlyStopping(monitor='val_loss', mode='min', patience=10, restore_best_weights=True),\n",
    "        tfk.callbacks.ReduceLROnPlateau(monitor='val_loss', mode='min', patience=5, factor=0.5, min_lr=1e-5)\n",
    "    ]\n",
    ").history"
   ]
  },
  {
   "cell_type": "code",
   "execution_count": null,
   "id": "13035506",
   "metadata": {},
   "outputs": [],
   "source": [
    "exp_dir = ''\n",
    "model.save(os.path.join(exp_dir, model_name))"
   ]
  },
  {
   "cell_type": "markdown",
   "id": "2105244c",
   "metadata": {},
   "source": [
    "# Analyze the results"
   ]
  },
  {
   "cell_type": "code",
   "execution_count": null,
   "id": "d0488688",
   "metadata": {
    "execution": {
     "iopub.execute_input": "2021-12-14T18:38:16.633679Z",
     "iopub.status.busy": "2021-12-14T18:38:16.633094Z",
     "iopub.status.idle": "2021-12-14T18:38:19.189698Z",
     "shell.execute_reply": "2021-12-14T18:38:19.189209Z",
     "shell.execute_reply.started": "2021-12-13T22:23:56.138566Z"
    },
    "papermill": {
     "duration": 3.391561,
     "end_time": "2021-12-14T18:38:19.189833",
     "exception": false,
     "start_time": "2021-12-14T18:38:15.798272",
     "status": "completed"
    },
    "tags": []
   },
   "outputs": [],
   "source": [
    "# Plot loss, accuracy and learning rate\n",
    "best_epoch = np.argmin(history['val_loss'])\n",
    "\n",
    "plt.figure(figsize=(17,4))\n",
    "plt.plot(history['loss'], label='Training loss', alpha=.8, color='#ff7f0e')\n",
    "plt.plot(history['val_loss'], label='Validation loss', alpha=.9, color='#5a9aa5')\n",
    "plt.axvline(x=best_epoch, label='Best epoch', alpha=.3, ls='--', color='#5a9aa5')\n",
    "plt.title('Mean Squared Error (Loss)')\n",
    "plt.legend()\n",
    "plt.grid(alpha=.3)\n",
    "plt.show()\n",
    "\n",
    "plt.figure(figsize=(17,4))\n",
    "plt.plot(history['mae'], label='Training accuracy', alpha=.8, color='#ff7f0e')\n",
    "plt.plot(history['val_mae'], label='Validation accuracy', alpha=.9, color='#5a9aa5')\n",
    "plt.axvline(x=best_epoch, label='Best epoch', alpha=.3, ls='--', color='#5a9aa5')\n",
    "plt.title('Mean Absolute Error')\n",
    "plt.legend()\n",
    "plt.grid(alpha=.3)\n",
    "plt.show()\n",
    "\n",
    "plt.figure(figsize=(18,3))\n",
    "plt.plot(history['lr'], label='Learning Rate', alpha=.8, color='#ff7f0e')\n",
    "plt.axvline(x=best_epoch, label='Best epoch', alpha=.3, ls='--', color='#5a9aa5')\n",
    "plt.legend()\n",
    "plt.grid(alpha=.3)\n",
    "plt.show()"
   ]
  },
  {
   "cell_type": "code",
   "execution_count": null,
   "id": "4ce91aee",
   "metadata": {
    "execution": {
     "iopub.execute_input": "2021-12-14T18:38:20.350843Z",
     "iopub.status.busy": "2021-12-14T18:38:20.349718Z",
     "iopub.status.idle": "2021-12-14T18:38:21.772143Z",
     "shell.execute_reply": "2021-12-14T18:38:21.772850Z",
     "shell.execute_reply.started": "2021-12-13T22:23:56.140552Z"
    },
    "papermill": {
     "duration": 2.016915,
     "end_time": "2021-12-14T18:38:21.773049",
     "exception": false,
     "start_time": "2021-12-14T18:38:19.756134",
     "status": "completed"
    },
    "tags": []
   },
   "outputs": [],
   "source": [
    "# Predict the test set \n",
    "if(test_mode):\n",
    "    predictions = model.predict(X_test)\n",
    "    print(predictions.shape)\n",
    "\n",
    "    mean_squared_error = tfk.metrics.mse(y_test.flatten(),predictions.flatten())\n",
    "    mean_absolute_error = tfk.metrics.mae(y_test.flatten(),predictions.flatten())\n",
    "    print(mean_squared_error, mean_absolute_error)"
   ]
  },
  {
   "cell_type": "code",
   "execution_count": null,
   "id": "d77d426a",
   "metadata": {
    "execution": {
     "iopub.execute_input": "2021-12-14T18:38:22.935541Z",
     "iopub.status.busy": "2021-12-14T18:38:22.934872Z",
     "iopub.status.idle": "2021-12-14T18:38:22.938766Z",
     "shell.execute_reply": "2021-12-14T18:38:22.938290Z",
     "shell.execute_reply.started": "2021-12-13T22:23:56.142118Z"
    },
    "papermill": {
     "duration": 0.581509,
     "end_time": "2021-12-14T18:38:22.938898",
     "exception": false,
     "start_time": "2021-12-14T18:38:22.357389",
     "status": "completed"
    },
    "tags": []
   },
   "outputs": [],
   "source": [
    "def inspect_multivariate_prediction(X, y, pred, columns, telescope, idx=None):\n",
    "    if(idx==None):\n",
    "        idx=np.random.randint(0,len(X))\n",
    "\n",
    "    figs, axs = plt.subplots(len(columns), 1, sharex=True, figsize=(17,17))\n",
    "    for i, col in enumerate(columns):\n",
    "        axs[i].plot(np.arange(len(X[0,:,i])), X[idx,:,i])\n",
    "        axs[i].plot(np.arange(len(X[0,:,i]), len(X_train[0,:,i])+telescope), y[idx,:,i], color='orange')\n",
    "        axs[i].plot(np.arange(len(X[0,:,i]), len(X_train[0,:,i])+telescope), pred[idx,:,i], color='green')\n",
    "        axs[i].set_title(col)\n",
    "        axs[i].set_ylim(0,1)\n",
    "    plt.show()"
   ]
  },
  {
   "cell_type": "code",
   "execution_count": null,
   "id": "deb266d1",
   "metadata": {
    "execution": {
     "iopub.execute_input": "2021-12-14T18:38:24.137894Z",
     "iopub.status.busy": "2021-12-14T18:38:24.136599Z",
     "iopub.status.idle": "2021-12-14T18:38:24.777497Z",
     "shell.execute_reply": "2021-12-14T18:38:24.777927Z",
     "shell.execute_reply.started": "2021-12-13T22:23:56.143775Z"
    },
    "papermill": {
     "duration": 1.26121,
     "end_time": "2021-12-14T18:38:24.778075",
     "exception": false,
     "start_time": "2021-12-14T18:38:23.516865",
     "status": "completed"
    },
    "tags": []
   },
   "outputs": [],
   "source": [
    "if(test_mode):\n",
    "    inspect_multivariate_prediction(X_test, y_test, predictions, target_labels, telescope)"
   ]
  },
  {
   "cell_type": "code",
   "execution_count": null,
   "id": "273a5b75",
   "metadata": {},
   "outputs": [],
   "source": [
    "if(test_mode):\n",
    "    reg_telescope = 216 # 864/4, 864 is too high\n",
    "    X_test_reg, y_test_reg = build_sequences(X_test_raw, target_labels, window, stride, reg_telescope)\n",
    "    print(X_test_reg.shape, y_test_reg.shape)\n",
    "\n",
    "    # Autoregressive Forecasting\n",
    "    reg_predictions = np.array([])\n",
    "    X_temp = X_test_reg\n",
    "    for reg in range(0,reg_telescope,telescope):\n",
    "        pred_temp = model.predict(X_temp)\n",
    "        if(len(reg_predictions)==0):\n",
    "            reg_predictions = pred_temp\n",
    "        else:\n",
    "            reg_predictions = np.concatenate((reg_predictions,pred_temp),axis=1)\n",
    "        X_temp = np.concatenate((X_temp[:,telescope:,:],pred_temp), axis=1)"
   ]
  },
  {
   "cell_type": "code",
   "execution_count": null,
   "id": "fa2813e9",
   "metadata": {},
   "outputs": [],
   "source": [
    "if(test_mode):\n",
    "    print(reg_predictions.shape)"
   ]
  },
  {
   "cell_type": "code",
   "execution_count": null,
   "id": "f500770a",
   "metadata": {},
   "outputs": [],
   "source": [
    "if(test_mode):\n",
    "    mean_squared_error = tfk.metrics.mse(y_test_reg.flatten(),reg_predictions.flatten())\n",
    "    mean_absolute_error = tfk.metrics.mae(y_test_reg.flatten(),reg_predictions.flatten())\n",
    "    print(mean_squared_error, mean_absolute_error)"
   ]
  },
  {
   "cell_type": "code",
   "execution_count": null,
   "id": "87b4f9e2",
   "metadata": {},
   "outputs": [],
   "source": [
    "if(test_mode):\n",
    "    inspect_multivariate_prediction(X_test_reg, y_test_reg, reg_predictions, target_labels, reg_telescope)"
   ]
  },
  {
   "cell_type": "code",
   "execution_count": null,
   "id": "ffbebaa1",
   "metadata": {
    "execution": {
     "iopub.execute_input": "2021-12-14T18:38:25.961586Z",
     "iopub.status.busy": "2021-12-14T18:38:25.960374Z",
     "iopub.status.idle": "2021-12-14T18:38:25.984359Z",
     "shell.execute_reply": "2021-12-14T18:38:25.984808Z",
     "shell.execute_reply.started": "2021-12-13T22:23:56.14515Z"
    },
    "papermill": {
     "duration": 0.610251,
     "end_time": "2021-12-14T18:38:25.985009",
     "exception": false,
     "start_time": "2021-12-14T18:38:25.374758",
     "status": "completed"
    },
    "tags": []
   },
   "outputs": [],
   "source": [
    "if(test_mode):\n",
    "    maes = []\n",
    "    for i in range(predictions.shape[1]):\n",
    "        ft_maes = []\n",
    "        for j in range(predictions.shape[2]):\n",
    "            ft_maes.append(np.mean(np.abs(y_test[:,i,j]-predictions[:,i,j]), axis=0))\n",
    "        ft_maes = np.array(ft_maes)\n",
    "        maes.append(ft_maes)\n",
    "    maes = np.array(maes)"
   ]
  },
  {
   "cell_type": "code",
   "execution_count": null,
   "id": "ec0db438",
   "metadata": {
    "execution": {
     "iopub.execute_input": "2021-12-14T18:38:27.438485Z",
     "iopub.status.busy": "2021-12-14T18:38:27.437646Z",
     "iopub.status.idle": "2021-12-14T18:38:27.521586Z",
     "shell.execute_reply": "2021-12-14T18:38:27.520582Z",
     "shell.execute_reply.started": "2021-12-13T22:23:56.146524Z"
    },
    "papermill": {
     "duration": 0.946381,
     "end_time": "2021-12-14T18:38:27.521749",
     "exception": false,
     "start_time": "2021-12-14T18:38:26.575368",
     "status": "completed"
    },
    "tags": []
   },
   "outputs": [],
   "source": [
    "if(test_mode):\n",
    "    future_predictions = model.predict(future)\n",
    "    print(future_predictions.shape)"
   ]
  },
  {
   "cell_type": "code",
   "execution_count": null,
   "id": "8fb221d7",
   "metadata": {
    "execution": {
     "iopub.execute_input": "2021-12-14T18:38:28.798300Z",
     "iopub.status.busy": "2021-12-14T18:38:28.791405Z",
     "iopub.status.idle": "2021-12-14T18:38:29.517121Z",
     "shell.execute_reply": "2021-12-14T18:38:29.517551Z",
     "shell.execute_reply.started": "2021-12-13T22:23:56.1479Z"
    },
    "papermill": {
     "duration": 1.324795,
     "end_time": "2021-12-14T18:38:29.517698",
     "exception": false,
     "start_time": "2021-12-14T18:38:28.192903",
     "status": "completed"
    },
    "tags": []
   },
   "outputs": [],
   "source": [
    "if(test_mode):\n",
    "    figs, axs = plt.subplots(len(target_labels), 1, sharex=True, figsize=(17,17))\n",
    "    for i, col in enumerate(target_labels):\n",
    "        axs[i].plot(np.arange(len(future[0,:,i])), future[0,:,i])\n",
    "        axs[i].plot(np.arange(len(future[0,:,i]), len(future[0,:,i])+telescope), future_predictions[0,:,i], color='orange')\n",
    "        axs[i].fill_between(\n",
    "            np.arange(len(future[0,:,i]), len(future[0,:,i])+telescope), \n",
    "            future_predictions[0,:,i]+maes[:,i], \n",
    "            future_predictions[0,:,i]-maes[:,i], \n",
    "            color='orange', alpha=.3)\n",
    "        axs[i].set_title(col)\n",
    "        # axs[i].set_ylim(0,1)\n",
    "    plt.show()"
   ]
  }
 ],
 "metadata": {
  "kernelspec": {
   "display_name": "Python 3",
   "language": "python",
   "name": "python3"
  },
  "language_info": {
   "codemirror_mode": {
    "name": "ipython",
    "version": 3
   },
   "file_extension": ".py",
   "mimetype": "text/x-python",
   "name": "python",
   "nbconvert_exporter": "python",
   "pygments_lexer": "ipython3",
   "version": "3.10.1"
  },
  "papermill": {
   "default_parameters": {},
   "duration": 193.674755,
   "end_time": "2021-12-14T18:38:45.146971",
   "environment_variables": {},
   "exception": null,
   "input_path": "__notebook__.ipynb",
   "output_path": "__notebook__.ipynb",
   "parameters": {},
   "start_time": "2021-12-14T18:35:31.472216",
   "version": "2.3.3"
  }
 },
 "nbformat": 4,
 "nbformat_minor": 5
}
